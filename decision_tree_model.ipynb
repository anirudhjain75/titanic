{
 "cells": [
  {
   "cell_type": "code",
   "execution_count": 1,
   "metadata": {},
   "outputs": [
    {
     "name": "stdout",
     "output_type": "stream",
     "text": [
      "Currently at C:\\Users\\Sarthak\\titanic\n"
     ]
    }
   ],
   "source": [
    "from sklearn.tree import DecisionTreeClassifier # Import Decision Tree Classifier\n",
    "from sklearn.model_selection import train_test_split # Import train_test_split function\n",
    "from sklearn import metrics #Import scikit-learn metrics module for accuracy calculation\n",
    "import pandas as pd\n",
    "import os\n",
    "\n",
    "path = os.getcwd()\n",
    "\n",
    "print(\"Currently at\", path)\n"
   ]
  },
  {
   "cell_type": "code",
   "execution_count": 2,
   "metadata": {},
   "outputs": [],
   "source": [
    "import matplotlib.pyplot as plt\n",
    "import seaborn as sns\n",
    "import numpy as np\n",
    "from sklearn.preprocessing import MinMaxScaler\n",
    "\n",
    "scaler = MinMaxScaler()\n",
    "\n",
    "sns.set()\n",
    "\n",
    "df = pd.read_csv(path+\"/data/train.csv\")\n",
    "df.set_index(\"PassengerId\", inplace=True)\n",
    "\n",
    "int_columns = [\"Survived\", \"Pclass\", \"Age\", \"SibSp\", \"Parch\", \"Fare\"]\n",
    "\n",
    "df[int_columns] = scaler.fit_transform(df[int_columns])\n"
   ]
  },
  {
   "cell_type": "code",
   "execution_count": 3,
   "metadata": {},
   "outputs": [
    {
     "name": "stdout",
     "output_type": "stream",
     "text": [
      "<bound method NDFrame.head of              Survived  Pclass  \\\n",
      "PassengerId                     \n",
      "1                 0.0     1.0   \n",
      "2                 1.0     0.0   \n",
      "3                 1.0     1.0   \n",
      "4                 1.0     0.0   \n",
      "5                 0.0     1.0   \n",
      "...               ...     ...   \n",
      "887               0.0     0.5   \n",
      "888               1.0     0.0   \n",
      "889               0.0     1.0   \n",
      "890               1.0     0.0   \n",
      "891               0.0     1.0   \n",
      "\n",
      "                                                          Name     Sex  \\\n",
      "PassengerId                                                              \n",
      "1                                      Braund, Mr. Owen Harris    male   \n",
      "2            Cumings, Mrs. John Bradley (Florence Briggs Th...  female   \n",
      "3                                       Heikkinen, Miss. Laina  female   \n",
      "4                 Futrelle, Mrs. Jacques Heath (Lily May Peel)  female   \n",
      "5                                     Allen, Mr. William Henry    male   \n",
      "...                                                        ...     ...   \n",
      "887                                      Montvila, Rev. Juozas    male   \n",
      "888                               Graham, Miss. Margaret Edith  female   \n",
      "889                   Johnston, Miss. Catherine Helen \"Carrie\"  female   \n",
      "890                                      Behr, Mr. Karl Howell    male   \n",
      "891                                        Dooley, Mr. Patrick    male   \n",
      "\n",
      "                  Age  SibSp     Parch            Ticket      Fare Cabin  \\\n",
      "PassengerId                                                                \n",
      "1            0.271174  0.125  0.000000         A/5 21171  0.014151   NaN   \n",
      "2            0.472229  0.125  0.000000          PC 17599  0.139136   C85   \n",
      "3            0.321438  0.000  0.000000  STON/O2. 3101282  0.015469   NaN   \n",
      "4            0.434531  0.125  0.000000            113803  0.103644  C123   \n",
      "5            0.434531  0.000  0.000000            373450  0.015713   NaN   \n",
      "...               ...    ...       ...               ...       ...   ...   \n",
      "887          0.334004  0.000  0.000000            211536  0.025374   NaN   \n",
      "888          0.233476  0.000  0.000000            112053  0.058556   B42   \n",
      "889               NaN  0.125  0.333333        W./C. 6607  0.045771   NaN   \n",
      "890          0.321438  0.000  0.000000            111369  0.058556  C148   \n",
      "891          0.396833  0.000  0.000000            370376  0.015127   NaN   \n",
      "\n",
      "            Embarked  \n",
      "PassengerId           \n",
      "1                  S  \n",
      "2                  C  \n",
      "3                  S  \n",
      "4                  S  \n",
      "5                  S  \n",
      "...              ...  \n",
      "887                S  \n",
      "888                S  \n",
      "889                S  \n",
      "890                C  \n",
      "891                Q  \n",
      "\n",
      "[891 rows x 11 columns]>\n"
     ]
    }
   ],
   "source": [
    "print(df.head)"
   ]
  },
  {
   "cell_type": "code",
   "execution_count": 4,
   "metadata": {},
   "outputs": [
    {
     "ename": "NameError",
     "evalue": "name 'dfRemoved' is not defined",
     "output_type": "error",
     "traceback": [
      "\u001b[1;31m---------------------------------------------------------------------------\u001b[0m",
      "\u001b[1;31mNameError\u001b[0m                                 Traceback (most recent call last)",
      "\u001b[1;32m<ipython-input-4-c44f0afe1a9f>\u001b[0m in \u001b[0;36m<module>\u001b[1;34m\u001b[0m\n\u001b[0;32m      1\u001b[0m \u001b[0mdf\u001b[0m\u001b[1;33m[\u001b[0m\u001b[1;34m'Age'\u001b[0m\u001b[1;33m]\u001b[0m \u001b[1;33m=\u001b[0m \u001b[0mdf\u001b[0m\u001b[1;33m[\u001b[0m\u001b[1;34m'Age'\u001b[0m\u001b[1;33m]\u001b[0m\u001b[1;33m.\u001b[0m\u001b[0mfillna\u001b[0m\u001b[1;33m(\u001b[0m\u001b[0mnp\u001b[0m\u001b[1;33m.\u001b[0m\u001b[0mmedian\u001b[0m\u001b[1;33m(\u001b[0m\u001b[0mdf\u001b[0m\u001b[1;33m[\u001b[0m\u001b[1;34m'Age'\u001b[0m\u001b[1;33m]\u001b[0m\u001b[1;33m)\u001b[0m\u001b[1;33m)\u001b[0m\u001b[1;33m\u001b[0m\u001b[1;33m\u001b[0m\u001b[0m\n\u001b[0;32m      2\u001b[0m \u001b[1;33m\u001b[0m\u001b[0m\n\u001b[1;32m----> 3\u001b[1;33m \u001b[0mdfRemoved\u001b[0m \u001b[1;33m=\u001b[0m\u001b[0mdfRemoved\u001b[0m\u001b[1;33m.\u001b[0m\u001b[0mdropna\u001b[0m\u001b[1;33m(\u001b[0m\u001b[0maxis\u001b[0m\u001b[1;33m=\u001b[0m\u001b[1;34m'columns'\u001b[0m\u001b[1;33m)\u001b[0m\u001b[1;33m\u001b[0m\u001b[1;33m\u001b[0m\u001b[0m\n\u001b[0m\u001b[0;32m      4\u001b[0m \u001b[0mdfRemoved\u001b[0m \u001b[1;33m=\u001b[0m \u001b[0mdfRemoved\u001b[0m\u001b[1;33m.\u001b[0m\u001b[0mdrop\u001b[0m\u001b[1;33m(\u001b[0m\u001b[0mcolumns\u001b[0m\u001b[1;33m=\u001b[0m\u001b[1;33m[\u001b[0m\u001b[1;34m'Ticket'\u001b[0m\u001b[1;33m,\u001b[0m \u001b[1;34m'Name'\u001b[0m\u001b[1;33m]\u001b[0m\u001b[1;33m)\u001b[0m\u001b[1;33m\u001b[0m\u001b[1;33m\u001b[0m\u001b[0m\n\u001b[0;32m      5\u001b[0m \u001b[1;33m\u001b[0m\u001b[0m\n",
      "\u001b[1;31mNameError\u001b[0m: name 'dfRemoved' is not defined"
     ]
    }
   ],
   "source": [
    "df['Age'] = df['Age'].fillna(np.median(df['Age']))\n",
    "\n",
    "dfRemoved =dfRemoved.dropna(axis='columns')\n",
    "dfRemoved = dfRemoved.drop(columns=['Ticket', 'Name'])\n",
    "\n",
    "print(df.columns)\n",
    "print(dfRemoved.columns)"
   ]
  },
  {
   "cell_type": "code",
   "execution_count": null,
   "metadata": {},
   "outputs": [],
   "source": [
    "\n",
    "dfRemoved = pd.get_dummies(dfRemoved, columns=['Sex'])\n"
   ]
  },
  {
   "cell_type": "code",
   "execution_count": null,
   "metadata": {},
   "outputs": [],
   "source": [
    "from sklearn.model_selection import train_test_split\n",
    "X= dfRemoved.drop('Survived', axis=1).values\n",
    "print(dfRemoved.columns)\n",
    "y=dfRemoved['Survived'].values\n",
    "X_train, X_test, y_train, y_test = train_test_split(X,y,test_size=0.3,random_state=42)"
   ]
  },
  {
   "cell_type": "code",
   "execution_count": null,
   "metadata": {},
   "outputs": [],
   "source": [
    "clf = DecisionTreeClassifier()\n",
    "\n",
    "# Train Decision Tree Classifer\n",
    "clf = clf.fit(X_train,y_train)\n",
    "\n",
    "#Predict the response for test dataset\n",
    "y_pred = clf.predict(X_test)"
   ]
  },
  {
   "cell_type": "code",
   "execution_count": null,
   "metadata": {},
   "outputs": [],
   "source": [
    "print(\"Accuracy:\",metrics.accuracy_score(y_test, y_pred))"
   ]
  },
  {
   "cell_type": "code",
   "execution_count": null,
   "metadata": {},
   "outputs": [],
   "source": [
    "test_df = pd.read_csv(path+\"/data/test.csv\")\n",
    "print(df.head)"
   ]
  },
  {
   "cell_type": "code",
   "execution_count": null,
   "metadata": {},
   "outputs": [],
   "source": [
    "test_df = test_df.drop(columns=['Name', 'Ticket', 'Cabin', 'Embarked'])\n",
    "test_df['Age'] = test_df['Age'].fillna(np.median(test_df['Age']))\n",
    "test_df['Fare'] = test_df['Fare'].fillna(np.mean(test_df['Fare']))\n",
    "test_df = test_df.dropna(axis=1)\n",
    "test_df = pd.get_dummies(test_df, columns=['Sex'])\n",
    "test_df.set_index('PassengerId', inplace=True)\n",
    "results=clf.predict(test_df.values)\n",
    "print(results)\n",
    "A = np.array(results)\n",
    "A = A.astype(int)\n",
    "print(A)"
   ]
  },
  {
   "cell_type": "code",
   "execution_count": null,
   "metadata": {},
   "outputs": [],
   "source": [
    "output = pd.DataFrame({'PassengerId': test_df.index, 'Survived': A})\n",
    "print(output.head())\n",
    "output.to_csv('my_submission.csv', index=False)\n",
    "print('Your submission was successfully saved!')"
   ]
  },
  {
   "cell_type": "code",
   "execution_count": null,
   "metadata": {},
   "outputs": [],
   "source": [
    "from sklearn.ensemble import RandomForestClassifier\n",
    "\n",
    "y = train_data[\"Survived\"]\n",
    "\n",
    "features = [\"Pclass\", \"Sex\", \"SibSp\", \"Parch\"]\n",
    "X = pd.get_dummies(dfRemoved[features])\n",
    "X_test = pd.get_dummies(test_df[features])\n",
    "\n",
    "model = RandomForestClassifier(n_estimators=100, max_depth=5, random_state=1)\n",
    "model.fit(X, y)\n",
    "predictions = model.predict(X_test)\n",
    "B = np.array(predictions)\n",
    "B = B.astype(int)\n",
    "\n",
    "output = pd.DataFrame({'PassengerId': test_df.index, 'Survived': B })\n",
    "output.to_csv('my_submission.csv', index=False)\n",
    "print(\"Your submission was successfully saved!\")"
   ]
  }
 ],
 "metadata": {
  "kernelspec": {
   "display_name": "Python 3",
   "language": "python",
   "name": "python3"
  },
  "language_info": {
   "codemirror_mode": {
    "name": "ipython",
    "version": 3
   },
   "file_extension": ".py",
   "mimetype": "text/x-python",
   "name": "python",
   "nbconvert_exporter": "python",
   "pygments_lexer": "ipython3",
   "version": "3.8.1"
  }
 },
 "nbformat": 4,
 "nbformat_minor": 4
}

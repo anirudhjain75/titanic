{
 "cells": [
  {
   "cell_type": "code",
   "execution_count": 1,
   "metadata": {},
   "outputs": [
    {
     "name": "stdout",
     "output_type": "stream",
     "text": [
      "Currently at /Users/cyna/Projects/titanic\n"
     ]
    }
   ],
   "source": [
    "import os\n",
    "\n",
    "path = os.getcwd()\n",
    "\n",
    "print(\"Currently at\", path)\n"
   ]
  },
  {
   "cell_type": "code",
   "execution_count": 2,
   "metadata": {},
   "outputs": [
    {
     "data": {
      "image/png": "[encoded data removed]",
      "text/plain": [
       "<Figure size 432x288 with 2 Axes>"
      ]
     },
     "metadata": {},
     "output_type": "display_data"
    }
   ],
   "source": [
    "import pandas as pd\n",
    "import matplotlib.pyplot as plt\n",
    "import seaborn as sns\n",
    "from sklearn.preprocessing import MinMaxScaler\n",
    "\n",
    "scaler = MinMaxScaler()\n",
    "\n",
    "sns.set()\n",
    "\n",
    "df = pd.read_csv(path+\"/data/train.csv\")\n",
    "df.set_index(\"PassengerId\", inplace=True)\n",
    "\n",
    "int_columns = [\"Survived\", \"Pclass\", \"Age\", \"SibSp\", \"Parch\", \"Fare\"]\n",
    "\n",
    "df[int_columns] = scaler.fit_transform(df[int_columns])\n",
    "\n",
    "# Heat Map\n",
    "bx = sns.heatmap(df.corr())\n"
   ]
  },
  {
   "cell_type": "code",
   "execution_count": 8,
   "metadata": {},
   "outputs": [
    {
     "name": "stdout",
     "output_type": "stream",
     "text": [
      "(183, 11)\n",
      "(183, 11)\n"
     ]
    }
   ],
   "source": [
    "print(df.shape)\n",
    "\n",
    "# Data Cleaning\n",
    "df = df.dropna()\n",
    "\n",
    "print(df.shape)\n"
   ]
  },
  {
   "cell_type": "code",
   "execution_count": 4,
   "metadata": {},
   "outputs": [
    {
     "name": "stdout",
     "output_type": "stream",
     "text": [
      "Survived    float64\n",
      "Pclass      float64\n",
      "Name         object\n",
      "Sex          object\n",
      "Age         float64\n",
      "SibSp       float64\n",
      "Parch       float64\n",
      "Ticket       object\n",
      "Fare        float64\n",
      "Cabin        object\n",
      "Embarked     object\n",
      "dtype: object\n"
     ]
    }
   ],
   "source": [
    "\n",
    "# print(df.dtypes)\n",
    "# Data Processing\n",
    "# df['Sex'] = df['Sex'].astype('category')\n",
    "\n"
   ]
  },
  {
   "cell_type": "code",
   "execution_count": null,
   "metadata": {},
   "outputs": [],
   "source": [
    "for t in int_columns:\n",
    "    sns.boxplot(df[t])\n",
    "    plt.show()"
   ]
  },
  {
   "cell_type": "code",
   "execution_count": 5,
   "metadata": {},
   "outputs": [
    {
     "data": {
      "text/plain": [
       "<bound method NDFrame.head of              Survived  Pclass  \\\n",
       "PassengerId                     \n",
       "1                 0.0     1.0   \n",
       "2                 1.0     0.0   \n",
       "3                 1.0     1.0   \n",
       "4                 1.0     0.0   \n",
       "5                 0.0     1.0   \n",
       "...               ...     ...   \n",
       "887               0.0     0.5   \n",
       "888               1.0     0.0   \n",
       "889               0.0     1.0   \n",
       "890               1.0     0.0   \n",
       "891               0.0     1.0   \n",
       "\n",
       "                                                          Name     Sex  \\\n",
       "PassengerId                                                              \n",
       "1                                      Braund, Mr. Owen Harris    male   \n",
       "2            Cumings, Mrs. John Bradley (Florence Briggs Th...  female   \n",
       "3                                       Heikkinen, Miss. Laina  female   \n",
       "4                 Futrelle, Mrs. Jacques Heath (Lily May Peel)  female   \n",
       "5                                     Allen, Mr. William Henry    male   \n",
       "...                                                        ...     ...   \n",
       "887                                      Montvila, Rev. Juozas    male   \n",
       "888                               Graham, Miss. Margaret Edith  female   \n",
       "889                   Johnston, Miss. Catherine Helen \"Carrie\"  female   \n",
       "890                                      Behr, Mr. Karl Howell    male   \n",
       "891                                        Dooley, Mr. Patrick    male   \n",
       "\n",
       "                  Age  SibSp     Parch            Ticket      Fare Cabin  \\\n",
       "PassengerId                                                                \n",
       "1            0.271174  0.125  0.000000         A/5 21171  0.014151   NaN   \n",
       "2            0.472229  0.125  0.000000          PC 17599  0.139136   C85   \n",
       "3            0.321438  0.000  0.000000  STON/O2. 3101282  0.015469   NaN   \n",
       "4            0.434531  0.125  0.000000            113803  0.103644  C123   \n",
       "5            0.434531  0.000  0.000000            373450  0.015713   NaN   \n",
       "...               ...    ...       ...               ...       ...   ...   \n",
       "887          0.334004  0.000  0.000000            211536  0.025374   NaN   \n",
       "888          0.233476  0.000  0.000000            112053  0.058556   B42   \n",
       "889               NaN  0.125  0.333333        W./C. 6607  0.045771   NaN   \n",
       "890          0.321438  0.000  0.000000            111369  0.058556  C148   \n",
       "891          0.396833  0.000  0.000000            370376  0.015127   NaN   \n",
       "\n",
       "            Embarked  \n",
       "PassengerId           \n",
       "1                  S  \n",
       "2                  C  \n",
       "3                  S  \n",
       "4                  S  \n",
       "5                  S  \n",
       "...              ...  \n",
       "887                S  \n",
       "888                S  \n",
       "889                S  \n",
       "890                C  \n",
       "891                Q  \n",
       "\n",
       "[891 rows x 11 columns]>"
      ]
     },
     "execution_count": 5,
     "metadata": {},
     "output_type": "execute_result"
    }
   ],
   "source": [
    "df.head"
   ]
  },
  {
   "cell_type": "code",
   "execution_count": null,
   "metadata": {},
   "outputs": [],
   "source": []
  }
 ],
 "metadata": {
  "kernelspec": {
   "display_name": "Python 3",
   "language": "python",
   "name": "python3"
  },
  "language_info": {
   "codemirror_mode": {
    "name": "ipython",
    "version": 3
   },
   "file_extension": ".py",
   "mimetype": "text/x-python",
   "name": "python",
   "nbconvert_exporter": "python",
   "pygments_lexer": "ipython3",
   "version": "3.7.7"
  }
 },
 "nbformat": 4,
 "nbformat_minor": 4
}
